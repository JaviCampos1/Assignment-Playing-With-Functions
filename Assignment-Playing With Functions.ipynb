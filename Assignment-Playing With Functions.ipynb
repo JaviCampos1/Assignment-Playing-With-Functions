{
 "cells": [
  {
   "cell_type": "code",
   "execution_count": 16,
   "metadata": {},
   "outputs": [
    {
     "name": "stdout",
     "output_type": "stream",
     "text": [
      "5\n",
      "19.634999999999998\n"
     ]
    }
   ],
   "source": [
    "def area():\n",
    "    cir = int(input())\n",
    "    rad = int(cir)/2\n",
    "    area1 = rad**2 * 3.1416\n",
    "    print(area1)\n",
    "    \n",
    "area(5) #using 5 as a placeholder and example"
   ]
  },
  {
   "cell_type": "code",
   "execution_count": 21,
   "metadata": {},
   "outputs": [
    {
     "name": "stdout",
     "output_type": "stream",
     "text": [
      "olleh\n"
     ]
    }
   ],
   "source": [
    "def reverseString(x):\n",
    "    string = x\n",
    "    if len(string) > 5:\n",
    "        print(\"Word must be at most 5 characters only\")\n",
    "    else:\n",
    "        counter = -1\n",
    "        j = 0\n",
    "        i = len(string)\n",
    "        final = ''\n",
    "        while i > j:\n",
    "            rev = string[counter]\n",
    "            final = final + rev\n",
    "            j += 1\n",
    "            counter -= 1\n",
    "        print(final)\n",
    "        \n",
    "reverseString(\"hello\") #using hello as a placeholder and example\n",
    "        \n",
    "        "
   ]
  },
  {
   "cell_type": "code",
   "execution_count": 23,
   "metadata": {},
   "outputs": [
    {
     "name": "stdout",
     "output_type": "stream",
     "text": [
      "210\n"
     ]
    }
   ],
   "source": [
    "def backAddition(x):\n",
    "    counter = x\n",
    "    i = 0\n",
    "    j = counter\n",
    "    final = 0\n",
    "    while counter > i:\n",
    "        lessNumb = j - 1\n",
    "        if j == counter:\n",
    "            add = j + lessNumb\n",
    "            final = final + add\n",
    "            j = j - 1\n",
    "            i = i + 1\n",
    "        else:\n",
    "            final = final + lessNumb\n",
    "            j = j - 1\n",
    "            i = i + 1\n",
    "    print(final)\n",
    "    \n",
    "backAddition(5) #using 5 as a placeholder and example\n"
   ]
  },
  {
   "cell_type": "code",
   "execution_count": 24,
   "metadata": {},
   "outputs": [
    {
     "name": "stdout",
     "output_type": "stream",
     "text": [
      "25164150\n"
     ]
    }
   ],
   "source": [
    "def square(): \n",
    "    total = 0\n",
    "    counter = 1\n",
    "    while counter <= 100:\n",
    "        x = counter**2\n",
    "        total = total + x\n",
    "        counter += 1\n",
    "    return total\n",
    "\n",
    "\n",
    "def square_sum():\n",
    "    total = 0\n",
    "    counter = 1\n",
    "    while counter <= 100:\n",
    "        total = total + counter\n",
    "        counter += 1\n",
    "        Squared = total**2\n",
    "    return Squared\n",
    "\n",
    "x = square_sum() - square() \n",
    "print(x)"
   ]
  },
  {
   "cell_type": "code",
   "execution_count": 26,
   "metadata": {},
   "outputs": [
    {
     "name": "stdout",
     "output_type": "stream",
     "text": [
      "205\n",
      "2\n",
      "0\n",
      "0\n",
      "1\n",
      "0\n"
     ]
    }
   ],
   "source": [
    "total_money = int(input())\n",
    "\n",
    "def point_of_sale():\n",
    "    a = 0 #100\n",
    "    b = 0 #25\n",
    "    c = 0 #10\n",
    "    d = 0 #5\n",
    "    e = 0 #1\n",
    "    total = 0\n",
    "    while total_money > total:\n",
    "        if total + 100 > total_money:\n",
    "            break\n",
    "        elif total + 100 != total_money:\n",
    "            a = a + 1\n",
    "            total = total + 100\n",
    "        elif total + 100 == total_money:\n",
    "            a = a + 1\n",
    "            total = total + 100\n",
    "        else:\n",
    "            break\n",
    "        \n",
    "    while total_money > total:\n",
    "        if total + 25 > total_money:\n",
    "            break\n",
    "        elif total + 25 != total_money:\n",
    "            b = b + 1\n",
    "            total = total + 25\n",
    "        elif total + 25 == total_money:\n",
    "            b = b + 1\n",
    "            total = total + 25\n",
    "        else:\n",
    "            break\n",
    "\n",
    "    while total_money > total:\n",
    "        if total + 10 > total_money:\n",
    "            break\n",
    "        elif total + 10 != total_money:\n",
    "            c = c + 1\n",
    "            total = total + 10\n",
    "        elif total + 10 == total_money:\n",
    "            c = c + 1\n",
    "            total = total + 10\n",
    "        else:\n",
    "            break\n",
    "\n",
    "    while total_money > total:\n",
    "        if total + 5 > total_money:\n",
    "            break\n",
    "        elif total + 5 != total_money:\n",
    "            d = d + 1\n",
    "            total = total + 5\n",
    "        elif total + 5 == total_money:\n",
    "            d = d + 1\n",
    "            total = total + 5\n",
    "        else:\n",
    "            break\n",
    "\n",
    "    while total_money > total:\n",
    "        if total + 1 > total_money:\n",
    "            break\n",
    "        elif total + 1 != total_money:\n",
    "            e = e + 1\n",
    "            total = total + 1\n",
    "        elif total + 1 == total_money:\n",
    "            e = e + 1\n",
    "            total = total + 1\n",
    "        else:\n",
    "            break\n",
    "\n",
    "    print(a)\n",
    "    print(b)\n",
    "    print(c)\n",
    "    print(d)\n",
    "    print(e)\n",
    "\n",
    "\n",
    "\n",
    "point_of_sale()"
   ]
  },
  {
   "cell_type": "code",
   "execution_count": null,
   "metadata": {},
   "outputs": [],
   "source": []
  }
 ],
 "metadata": {
  "kernelspec": {
   "display_name": "Python 3",
   "language": "python",
   "name": "python3"
  },
  "language_info": {
   "codemirror_mode": {
    "name": "ipython",
    "version": 3
   },
   "file_extension": ".py",
   "mimetype": "text/x-python",
   "name": "python",
   "nbconvert_exporter": "python",
   "pygments_lexer": "ipython3",
   "version": "3.8.5"
  }
 },
 "nbformat": 4,
 "nbformat_minor": 4
}
